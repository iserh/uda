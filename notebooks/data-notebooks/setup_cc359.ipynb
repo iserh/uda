{
 "cells": [
  {
   "cell_type": "markdown",
   "metadata": {},
   "source": [
    "# Setup CC359 Dataset"
   ]
  },
  {
   "cell_type": "code",
   "execution_count": null,
   "metadata": {},
   "outputs": [],
   "source": [
    "import glob\n",
    "import shutil\n",
    "import zipfile\n",
    "from pathlib import Path\n",
    "\n",
    "path = Path(\"/tmp/data/CC359\")\n",
    "dl_path = path / \"download\"\n",
    "\n",
    "vendors = [\"philips_3\", \"philips_15\", \"siemens_3\", \"siemens_15\", \"ge_15\", \"ge_3\"]"
   ]
  },
  {
   "cell_type": "code",
   "execution_count": null,
   "metadata": {},
   "outputs": [],
   "source": [
    "# ----- Extract the gdrive zip file -----\n",
    "\n",
    "with zipfile.ZipFile(path / \"CC359.zip\", \"r\") as zip_file:\n",
    "    zip_file.extractall(path)\n",
    "\n",
    "# rename\n",
    "shutil.move(path / \"CC359\", path / dl_path)\n",
    "# os.remove(path / 'CC359.zip')"
   ]
  },
  {
   "cell_type": "code",
   "execution_count": null,
   "metadata": {},
   "outputs": [],
   "source": [
    "# ----- Extract Original.zip and re-organize -----\n",
    "\n",
    "with zipfile.ZipFile(dl_path / \"Original.zip\", \"r\") as zip_file:\n",
    "    zip_file.extractall(path)\n",
    "\n",
    "# os.remove(dl_path / 'Original.zip')\n",
    "\n",
    "for vendor in vendors:\n",
    "    vendor_path = path / \"Original\" / vendor.upper()\n",
    "    vendor_path.mkdir(parents=True)\n",
    "\n",
    "    for file_path in glob.iglob(str(path / \"Original\" / f\"CC*_{vendor}_*.nii.gz\")):\n",
    "        shutil.move(file_path, vendor_path)"
   ]
  },
  {
   "cell_type": "code",
   "execution_count": null,
   "metadata": {},
   "outputs": [],
   "source": [
    "# ----- Extract Silver-standard-STAPLE.zip and re-organize -----\n",
    "silver_standard = \"Silver-standard-machine-learning\"\n",
    "\n",
    "with zipfile.ZipFile(dl_path / \"Skull-stripping-masks\" / f\"{silver_standard}.zip\", \"r\") as zip_file:\n",
    "    zip_file.extractall(path)\n",
    "\n",
    "# rename\n",
    "# os.remove(dl_path / 'Skull-stripping-masks' / f'{silver_standard}.zip')\n",
    "\n",
    "for vendor in vendors:\n",
    "    vendor_path = path / \"Silver-standard\" / vendor.upper()\n",
    "    vendor_path.mkdir(parents=True)\n",
    "\n",
    "    for file_path in glob.iglob(str(path / \"Silver-standard\" / f\"CC*_{vendor}_*.nii.gz\")):\n",
    "        shutil.move(file_path, vendor_path)"
   ]
  },
  {
   "cell_type": "code",
   "execution_count": null,
   "metadata": {},
   "outputs": [],
   "source": [
    "# final cleanup\n",
    "shutil.rmtree(path / \"__MACOSX\")"
   ]
  },
  {
   "cell_type": "markdown",
   "metadata": {},
   "source": [
    "## Upload to W&B"
   ]
  },
  {
   "cell_type": "code",
   "execution_count": 1,
   "metadata": {},
   "outputs": [],
   "source": [
    "import wandb\n",
    "from pathlib import Path\n",
    "\n",
    "data_dir = Path(\"/tmp/data/CC359\")"
   ]
  },
  {
   "cell_type": "code",
   "execution_count": null,
   "metadata": {},
   "outputs": [],
   "source": [
    "run = wandb.init(project=\"UDA-Datasets\")\n",
    "\n",
    "artifact = wandb.Artifact(\"CC359-Skull-stripping\", type=\"raw_data\")\n",
    "artifact.add_dir(data_dir)\n",
    "run.log_artifact(artifact)\n",
    "\n",
    "wandb.finish()"
   ]
  },
  {
   "cell_type": "code",
   "execution_count": 3,
   "metadata": {},
   "outputs": [],
   "source": [
    "api = wandb.Api()\n",
    "run = api.run(f\"iserh/UDA-Datasets/{run.id}\")\n",
    "\n",
    "run.delete()"
   ]
  }
 ],
 "metadata": {
  "interpreter": {
   "hash": "9bcf43fd28070f79a517f81758659f69011f725cffd2c0832fff1c14c055eba3"
  },
  "kernelspec": {
   "display_name": "Python 3.9.12 ('uda')",
   "language": "python",
   "name": "python3"
  },
  "language_info": {
   "codemirror_mode": {
    "name": "ipython",
    "version": 3
   },
   "file_extension": ".py",
   "mimetype": "text/x-python",
   "name": "python",
   "nbconvert_exporter": "python",
   "pygments_lexer": "ipython3",
   "version": "3.9.12"
  },
  "orig_nbformat": 4
 },
 "nbformat": 4,
 "nbformat_minor": 2
}
