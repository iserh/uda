{
 "cells": [
  {
   "cell_type": "markdown",
   "metadata": {},
   "source": [
    "# Setup CC359 Dataset"
   ]
  },
  {
   "cell_type": "code",
   "execution_count": null,
   "metadata": {},
   "outputs": [],
   "source": [
    "import glob\n",
    "import shutil\n",
    "import zipfile\n",
    "from pathlib import Path\n",
    "\n",
    "path = Path(\"/tmp/data/CC359\")\n",
    "dl_path = path / \"download\"\n",
    "\n",
    "vendors = [\"philips_3\", \"philips_15\", \"siemens_3\", \"siemens_15\", \"ge_15\", \"ge_3\"]"
   ]
  },
  {
   "cell_type": "code",
   "execution_count": null,
   "metadata": {},
   "outputs": [],
   "source": [
    "# ----- Extract the gdrive zip file -----\n",
    "\n",
    "with zipfile.ZipFile(path / \"CC359.zip\", \"r\") as zip_file:\n",
    "    zip_file.extractall(path)\n",
    "\n",
    "# rename\n",
    "shutil.move(path / \"CC359\", path / dl_path)\n",
    "# os.remove(path / 'CC359.zip')"
   ]
  },
  {
   "cell_type": "code",
   "execution_count": null,
   "metadata": {},
   "outputs": [],
   "source": [
    "# ----- Extract Original.zip and re-organize -----\n",
    "\n",
    "with zipfile.ZipFile(dl_path / \"Original.zip\", \"r\") as zip_file:\n",
    "    zip_file.extractall(path)\n",
    "\n",
    "# os.remove(dl_path / 'Original.zip')\n",
    "\n",
    "for vendor in vendors:\n",
    "    vendor_path = path / \"Original\" / vendor.upper()\n",
    "    vendor_path.mkdir(parents=True)\n",
    "\n",
    "    for file_path in glob.iglob(str(path / \"Original\" / f\"CC*_{vendor}_*.nii.gz\")):\n",
    "        shutil.move(file_path, vendor_path)"
   ]
  },
  {
   "cell_type": "code",
   "execution_count": null,
   "metadata": {},
   "outputs": [],
   "source": [
    "# ----- Extract Silver-standard-STAPLE.zip and re-organize -----\n",
    "silver_standard = \"Silver-standard-machine-learning\"\n",
    "\n",
    "with zipfile.ZipFile(dl_path / \"Skull-stripping-masks\" / f\"{silver_standard}.zip\", \"r\") as zip_file:\n",
    "    zip_file.extractall(path)\n",
    "\n",
    "# rename\n",
    "# os.remove(dl_path / 'Skull-stripping-masks' / f'{silver_standard}.zip')\n",
    "\n",
    "for vendor in vendors:\n",
    "    vendor_path = path / \"Silver-standard\" / vendor.upper()\n",
    "    vendor_path.mkdir(parents=True)\n",
    "\n",
    "    for file_path in glob.iglob(str(path / \"Silver-standard\" / f\"CC*_{vendor}_*.nii.gz\")):\n",
    "        shutil.move(file_path, vendor_path)"
   ]
  },
  {
   "cell_type": "code",
   "execution_count": null,
   "metadata": {},
   "outputs": [],
   "source": [
    "# final cleanup\n",
    "shutil.rmtree(path / \"__MACOSX\")"
   ]
  },
  {
   "cell_type": "markdown",
   "metadata": {},
   "source": [
    "## Upload to W&B"
   ]
  },
  {
   "cell_type": "code",
   "execution_count": 1,
   "metadata": {},
   "outputs": [],
   "source": [
    "import wandb\n",
    "from pathlib import Path\n",
    "\n",
    "data_dir = Path(\"/tmp/data/CC359\")"
   ]
  },
  {
   "cell_type": "code",
   "execution_count": 2,
   "metadata": {},
   "outputs": [
    {
     "name": "stderr",
     "output_type": "stream",
     "text": [
      "Failed to detect the name of this notebook, you can set it manually with the WANDB_NOTEBOOK_NAME environment variable to enable code saving.\n",
      "\u001b[34m\u001b[1mwandb\u001b[0m: Currently logged in as: \u001b[33miserh\u001b[0m (\u001b[33mtiser\u001b[0m). Use \u001b[1m`wandb login --relogin`\u001b[0m to force relogin\n"
     ]
    },
    {
     "data": {
      "text/html": [
       "Tracking run with wandb version 0.12.17"
      ],
      "text/plain": [
       "<IPython.core.display.HTML object>"
      ]
     },
     "metadata": {},
     "output_type": "display_data"
    },
    {
     "data": {
      "text/html": [
       "Run data is saved locally in <code>/tmp/wandb/wandb/run-20220607_235109-2tybyxy0</code>"
      ],
      "text/plain": [
       "<IPython.core.display.HTML object>"
      ]
     },
     "metadata": {},
     "output_type": "display_data"
    },
    {
     "data": {
      "text/html": [
       "Syncing run <strong><a href=\"https://wandb.ai/tiser/UDA-Datasets/runs/2tybyxy0\" target=\"_blank\">winter-cosmos-1</a></strong> to <a href=\"https://wandb.ai/tiser/UDA-Datasets\" target=\"_blank\">Weights & Biases</a> (<a href=\"https://wandb.me/run\" target=\"_blank\">docs</a>)<br/>"
      ],
      "text/plain": [
       "<IPython.core.display.HTML object>"
      ]
     },
     "metadata": {},
     "output_type": "display_data"
    },
    {
     "name": "stderr",
     "output_type": "stream",
     "text": [
      "\u001b[34m\u001b[1mwandb\u001b[0m: Adding directory to artifact (/tmp/data/CC359)... Done. 1.0s\n"
     ]
    },
    {
     "data": {
      "text/html": [
       "Waiting for W&B process to finish... <strong style=\"color:green\">(success).</strong>"
      ],
      "text/plain": [
       "<IPython.core.display.HTML object>"
      ]
     },
     "metadata": {},
     "output_type": "display_data"
    },
    {
     "data": {
      "application/vnd.jupyter.widget-view+json": {
       "model_id": "fdb80c82e65f499c838781a57ab7da4d",
       "version_major": 2,
       "version_minor": 0
      },
      "text/plain": [
       "VBox(children=(Label(value='4019.314 MB of 4019.314 MB uploaded (0.000 MB deduped)\\r'), FloatProgress(value=1.…"
      ]
     },
     "metadata": {},
     "output_type": "display_data"
    },
    {
     "data": {
      "text/html": [
       "Synced <strong style=\"color:#cdcd00\">winter-cosmos-1</strong>: <a href=\"https://wandb.ai/tiser/UDA-Datasets/runs/2tybyxy0\" target=\"_blank\">https://wandb.ai/tiser/UDA-Datasets/runs/2tybyxy0</a><br/>Synced 6 W&B file(s), 0 media file(s), 720 artifact file(s) and 0 other file(s)"
      ],
      "text/plain": [
       "<IPython.core.display.HTML object>"
      ]
     },
     "metadata": {},
     "output_type": "display_data"
    },
    {
     "data": {
      "text/html": [
       "Find logs at: <code>/tmp/wandb/wandb/run-20220607_235109-2tybyxy0/logs</code>"
      ],
      "text/plain": [
       "<IPython.core.display.HTML object>"
      ]
     },
     "metadata": {},
     "output_type": "display_data"
    }
   ],
   "source": [
    "run = wandb.init(project=\"UDA-Datasets\")\n",
    "\n",
    "artifact = wandb.Artifact(\"CC359-Skull-stripping\", type=\"raw_data\")\n",
    "artifact.add_dir(data_dir)\n",
    "run.log_artifact(artifact)\n",
    "\n",
    "wandb.finish()"
   ]
  },
  {
   "cell_type": "code",
   "execution_count": 3,
   "metadata": {},
   "outputs": [],
   "source": [
    "api = wandb.Api()\n",
    "run = api.run(f\"tiser/UDA-Datasets/{run.id}\")\n",
    "\n",
    "run.delete()"
   ]
  }
 ],
 "metadata": {
  "interpreter": {
   "hash": "9bcf43fd28070f79a517f81758659f69011f725cffd2c0832fff1c14c055eba3"
  },
  "kernelspec": {
   "display_name": "Python 3.9.12 ('uda')",
   "language": "python",
   "name": "python3"
  },
  "language_info": {
   "codemirror_mode": {
    "name": "ipython",
    "version": 3
   },
   "file_extension": ".py",
   "mimetype": "text/x-python",
   "name": "python",
   "nbconvert_exporter": "python",
   "pygments_lexer": "ipython3",
   "version": "3.9.12"
  },
  "orig_nbformat": 4
 },
 "nbformat": 4,
 "nbformat_minor": 2
}
