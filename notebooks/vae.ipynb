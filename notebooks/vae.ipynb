{
 "cells": [
  {
   "cell_type": "code",
   "execution_count": 4,
   "metadata": {},
   "outputs": [
    {
     "name": "stderr",
     "output_type": "stream",
     "text": [
      "/tmp/conda/envs/uda/lib/python3.9/site-packages/seaborn_image/_context.py:128: UserWarning: Trying to register the cmap 'deep' which already exists.\n",
      "  register_cmap(name=cmap, cmap=cmap_mpl)\n"
     ]
    }
   ],
   "source": [
    "from pathlib import Path\n",
    "\n",
    "import seaborn_image as isns\n",
    "import numpy as np\n",
    "import torch\n",
    "import wandb\n",
    "from surface_distance import compute_surface_dice_at_tolerance, compute_surface_distances\n",
    "from tqdm import tqdm\n",
    "\n",
    "from uda import CC359, CC359Config, HParams, VAEConfig\n",
    "from uda.metrics import dice_score\n",
    "from uda.models.modeling_vae import VAE\n",
    "from uda.utils import reshape_to_volume\n",
    "from torch.utils.data import DataLoader\n",
    "\n",
    "isns.set_image(origin=\"upper\")"
   ]
  },
  {
   "cell_type": "code",
   "execution_count": 5,
   "metadata": {},
   "outputs": [],
   "source": [
    "run_id = \"1r1k4mdd\"\n",
    "project = \"UDA-CC359-VAE\"\n",
    "data_dir = Path(\"/tmp/data/CC359\")\n",
    "files_dir = Path(\"/tmp/files\")"
   ]
  },
  {
   "cell_type": "code",
   "execution_count": 3,
   "metadata": {},
   "outputs": [
    {
     "name": "stdout",
     "output_type": "stream",
     "text": [
      "Using device: cuda:0\n"
     ]
    },
    {
     "ename": "ValueError",
     "evalue": "File best_model.pt not found in tiser/UDA-CC359-VAE/1r1k4mdd.",
     "output_type": "error",
     "traceback": [
      "\u001b[0;31m---------------------------------------------------------------------------\u001b[0m",
      "\u001b[0;31mValueError\u001b[0m                                Traceback (most recent call last)",
      "\u001b[1;32m/home/stud/iser/dev/uda/notebooks/vae.ipynb Cell 3'\u001b[0m in \u001b[0;36m<cell line: 7>\u001b[0;34m()\u001b[0m\n\u001b[1;32m      <a href='vscode-notebook-cell://ssh-remote%2Bpool-u-042-01/home/stud/iser/dev/uda/notebooks/vae.ipynb#ch0000002vscode-remote?line=4'>5</a>\u001b[0m wandb\u001b[39m.\u001b[39mrestore(\u001b[39m\"\u001b[39m\u001b[39mconfig/hparams.yaml\u001b[39m\u001b[39m\"\u001b[39m, \u001b[39mf\u001b[39m\u001b[39m\"\u001b[39m\u001b[39mtiser/\u001b[39m\u001b[39m{\u001b[39;00mproject\u001b[39m}\u001b[39;00m\u001b[39m/\u001b[39m\u001b[39m{\u001b[39;00mrun_id\u001b[39m}\u001b[39;00m\u001b[39m\"\u001b[39m, root\u001b[39m=\u001b[39mfiles_dir, replace\u001b[39m=\u001b[39m\u001b[39mTrue\u001b[39;00m)\n\u001b[1;32m      <a href='vscode-notebook-cell://ssh-remote%2Bpool-u-042-01/home/stud/iser/dev/uda/notebooks/vae.ipynb#ch0000002vscode-remote?line=5'>6</a>\u001b[0m wandb\u001b[39m.\u001b[39mrestore(\u001b[39m\"\u001b[39m\u001b[39mconfig/vae.yaml\u001b[39m\u001b[39m\"\u001b[39m, \u001b[39mf\u001b[39m\u001b[39m\"\u001b[39m\u001b[39mtiser/\u001b[39m\u001b[39m{\u001b[39;00mproject\u001b[39m}\u001b[39;00m\u001b[39m/\u001b[39m\u001b[39m{\u001b[39;00mrun_id\u001b[39m}\u001b[39;00m\u001b[39m\"\u001b[39m, root\u001b[39m=\u001b[39mfiles_dir, replace\u001b[39m=\u001b[39m\u001b[39mTrue\u001b[39;00m)\n\u001b[0;32m----> <a href='vscode-notebook-cell://ssh-remote%2Bpool-u-042-01/home/stud/iser/dev/uda/notebooks/vae.ipynb#ch0000002vscode-remote?line=6'>7</a>\u001b[0m wandb\u001b[39m.\u001b[39;49mrestore(\u001b[39m\"\u001b[39;49m\u001b[39mbest_model.pt\u001b[39;49m\u001b[39m\"\u001b[39;49m, \u001b[39mf\u001b[39;49m\u001b[39m\"\u001b[39;49m\u001b[39mtiser/\u001b[39;49m\u001b[39m{\u001b[39;49;00mproject\u001b[39m}\u001b[39;49;00m\u001b[39m/\u001b[39;49m\u001b[39m{\u001b[39;49;00mrun_id\u001b[39m}\u001b[39;49;00m\u001b[39m\"\u001b[39;49m, root\u001b[39m=\u001b[39;49mfiles_dir, replace\u001b[39m=\u001b[39;49m\u001b[39mTrue\u001b[39;49;00m)\n\u001b[1;32m      <a href='vscode-notebook-cell://ssh-remote%2Bpool-u-042-01/home/stud/iser/dev/uda/notebooks/vae.ipynb#ch0000002vscode-remote?line=8'>9</a>\u001b[0m vae_config: VAEConfig \u001b[39m=\u001b[39m VAEConfig\u001b[39m.\u001b[39mfrom_file(files_dir \u001b[39m/\u001b[39m \u001b[39m\"\u001b[39m\u001b[39mconfig/vae.yaml\u001b[39m\u001b[39m\"\u001b[39m)\n\u001b[1;32m     <a href='vscode-notebook-cell://ssh-remote%2Bpool-u-042-01/home/stud/iser/dev/uda/notebooks/vae.ipynb#ch0000002vscode-remote?line=9'>10</a>\u001b[0m dataset_config: CC359Config \u001b[39m=\u001b[39m CC359Config\u001b[39m.\u001b[39mfrom_file(files_dir \u001b[39m/\u001b[39m \u001b[39m\"\u001b[39m\u001b[39mconfig/cc359.yaml\u001b[39m\u001b[39m\"\u001b[39m)\n",
      "File \u001b[0;32m/tmp/conda/envs/uda/lib/python3.9/site-packages/wandb/sdk/wandb_run.py:3302\u001b[0m, in \u001b[0;36mrestore\u001b[0;34m(name, run_path, replace, root)\u001b[0m\n\u001b[1;32m   3300\u001b[0m \u001b[39m# if the file does not exist, the file has an md5 of 0\u001b[39;00m\n\u001b[1;32m   3301\u001b[0m \u001b[39mif\u001b[39;00m files[\u001b[39m0\u001b[39m]\u001b[39m.\u001b[39mmd5 \u001b[39m==\u001b[39m \u001b[39m\"\u001b[39m\u001b[39m0\u001b[39m\u001b[39m\"\u001b[39m:\n\u001b[0;32m-> 3302\u001b[0m     \u001b[39mraise\u001b[39;00m \u001b[39mValueError\u001b[39;00m(\u001b[39mf\u001b[39m\u001b[39m\"\u001b[39m\u001b[39mFile \u001b[39m\u001b[39m{\u001b[39;00mname\u001b[39m}\u001b[39;00m\u001b[39m not found in \u001b[39m\u001b[39m{\u001b[39;00mrun_path \u001b[39mor\u001b[39;00m root\u001b[39m}\u001b[39;00m\u001b[39m.\u001b[39m\u001b[39m\"\u001b[39m)\n\u001b[1;32m   3303\u001b[0m \u001b[39mreturn\u001b[39;00m files[\u001b[39m0\u001b[39m]\u001b[39m.\u001b[39mdownload(root\u001b[39m=\u001b[39mroot, replace\u001b[39m=\u001b[39m\u001b[39mTrue\u001b[39;00m)\n",
      "\u001b[0;31mValueError\u001b[0m: File best_model.pt not found in tiser/UDA-CC359-VAE/1r1k4mdd."
     ]
    }
   ],
   "source": [
    "device = \"cuda:0\" if torch.cuda.is_available() else \"cpu\"\n",
    "print(f\"Using device: {device}\")\n",
    "\n",
    "wandb.restore(\"config/cc359.yaml\", f\"tiser/{project}/{run_id}\", root=files_dir, replace=True)\n",
    "wandb.restore(\"config/hparams.yaml\", f\"tiser/{project}/{run_id}\", root=files_dir, replace=True)\n",
    "wandb.restore(\"config/vae.yaml\", f\"tiser/{project}/{run_id}\", root=files_dir, replace=True)\n",
    "wandb.restore(\"best_model.pt\", f\"tiser/{project}/{run_id}\", root=files_dir, replace=True)\n",
    "\n",
    "vae_config: VAEConfig = VAEConfig.from_file(files_dir / \"config/vae.yaml\")\n",
    "dataset_config: CC359Config = CC359Config.from_file(files_dir / \"config/cc359.yaml\")\n",
    "hparams: HParams = HParams.from_file(files_dir / \"config/hparams.yaml\")\n",
    "\n",
    "print(f\"Evaluating run {run_id}\\n\")\n",
    "\n",
    "dataset = CC359(data_dir, dataset_config)\n",
    "data_loader = DataLoader(dataset.targets, batch_size=hparams.val_batch_size, shuffle=False)\n",
    "\n",
    "model = VAE.from_pretrained(files_dir / \"best_model.pt\", vae_config)\n",
    "model.eval().to(device)\n",
    "\n",
    "with torch.no_grad():\n",
    "    preds, targets = [\n",
    "        *zip(*[(model(x.to(device))[0].sigmoid().round().cpu(), x) for x in tqdm(data_loader, desc=\"Predicting\")])\n",
    "    ]\n",
    "\n",
    "preds = torch.cat(preds).numpy()\n",
    "targets = torch.cat(targets).numpy()\n",
    "\n",
    "preds = reshape_to_volume(preds, dataset.imsize, dataset.patch_size)\n",
    "targets = reshape_to_volume(targets, dataset.imsize, dataset.patch_size)\n",
    "data = reshape_to_volume(dataset.data, dataset.imsize, dataset.patch_size)\n"
   ]
  },
  {
   "cell_type": "code",
   "execution_count": 7,
   "metadata": {},
   "outputs": [
    {
     "name": "stderr",
     "output_type": "stream",
     "text": [
      "/tmp/conda/envs/uda/lib/python3.9/site-packages/seaborn_image/_context.py:128: UserWarning: Trying to register the cmap 'deep' which already exists.\n",
      "  register_cmap(name=cmap, cmap=cmap_mpl)\n"
     ]
    }
   ],
   "source": [
    "\n"
   ]
  },
  {
   "cell_type": "code",
   "execution_count": 11,
   "metadata": {},
   "outputs": [
    {
     "data": {
      "image/png": "[encoded data removed]",
      "text/plain": [
       "<Figure size 432x288 with 2 Axes>"
      ]
     },
     "metadata": {
      "needs_background": "light"
     },
     "output_type": "display_data"
    }
   ],
   "source": [
    "isns.imshow(preds[0, 96], cmap='gray');"
   ]
  },
  {
   "cell_type": "code",
   "execution_count": 16,
   "metadata": {},
   "outputs": [],
   "source": [
    "import imageio\n",
    "\n",
    "def write_tiff(array: np.ndarray, path: Path) -> None:\n",
    "    array = (array * 255).astype(np.uint8)\n",
    "    imageio.mimwrite(path, array)"
   ]
  },
  {
   "cell_type": "code",
   "execution_count": 17,
   "metadata": {},
   "outputs": [],
   "source": [
    "output_dir = Path(\"/tmp/output\")\n",
    "output_dir.mkdir(exist_ok=True)\n",
    "\n",
    "write_tiff(data[0], output_dir / \"test_data_0_3d.tiff\")\n",
    "write_tiff(targets[0], output_dir / \"test_mask_0_3d.tiff\")\n",
    "write_tiff(preds[0], output_dir / \"test_pred_0_3d.tiff\")"
   ]
  }
 ],
 "metadata": {
  "kernelspec": {
   "display_name": "Python 3.9.12 ('uda')",
   "language": "python",
   "name": "python3"
  },
  "language_info": {
   "codemirror_mode": {
    "name": "ipython",
    "version": 3
   },
   "file_extension": ".py",
   "mimetype": "text/x-python",
   "name": "python",
   "nbconvert_exporter": "python",
   "pygments_lexer": "ipython3",
   "version": "3.9.12"
  },
  "orig_nbformat": 4,
  "vscode": {
   "interpreter": {
    "hash": "9bcf43fd28070f79a517f81758659f69011f725cffd2c0832fff1c14c055eba3"
   }
  }
 },
 "nbformat": 4,
 "nbformat_minor": 2
}
