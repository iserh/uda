{
 "cells": [
  {
   "cell_type": "markdown",
   "id": "a4557b9e",
   "metadata": {},
   "source": [
    "# Setup CC359 Dataset\n",
    "Download the dataset from https://drive.google.com/drive/folders/0BxLb0NB2MjVZNm9JY1pWNFp6WTA?resourcekey=0-2sXMr8q-n2Nn6iY3PbBAdA&usp=sharing and place the contents in directory `data_path`.\n",
    "\n",
    "Directory should have the following file structure:\n",
    "- Hippocampus-masks (not required)\n",
    "- Skull-stripping-masks\n",
    "- WM-GM-CSF (not required)\n",
    "- Original.zip"
   ]
  },
  {
   "cell_type": "code",
   "execution_count": 1,
   "id": "95ba246a",
   "metadata": {},
   "outputs": [],
   "source": [
    "import pandas as pd\n",
    "import glob\n",
    "import shutil\n",
    "import zipfile\n",
    "from pathlib import Path\n",
    "\n",
    "data_path = Path(\"/tmp/data/CC359-RAW\")\n",
    "output_path = Path(\"/tmp/data/CC359\")\n",
    "output_path.mkdir(parents=True, exist_ok=True)\n",
    "\n",
    "vendors = {\n",
    "    \"philips_3\": \"Philips_3\",\n",
    "    \"philips_15\": \"Philips_15\",\n",
    "    \"siemens_3\": \"Siemens_3\",\n",
    "    \"siemens_15\": \"Siemens_15\",\n",
    "    \"ge_3\": \"GE_3\",\n",
    "    \"ge_15\": \"GE_15\",\n",
    "}"
   ]
  },
  {
   "cell_type": "code",
   "execution_count": 2,
   "id": "403ac79f",
   "metadata": {},
   "outputs": [],
   "source": [
    "# ----- Extract Original.zip and re-organize -----\n",
    "\n",
    "with zipfile.ZipFile(data_path / \"Original.zip\", \"r\") as zip_file:\n",
    "    zip_file.extractall(output_path)\n",
    "\n",
    "for sub_vendor, vendor in vendors.items():\n",
    "    vendor_path = output_path / \"Original\" / vendor\n",
    "    vendor_path.mkdir(parents=True, exist_ok=True)\n",
    "\n",
    "    for file_path in glob.iglob(str(output_path / \"Original\" / f\"CC*_{sub_vendor}_*.nii.gz\")):\n",
    "        shutil.move(file_path, vendor_path)"
   ]
  },
  {
   "cell_type": "code",
   "execution_count": 3,
   "id": "53d171f6",
   "metadata": {},
   "outputs": [],
   "source": [
    "# ----- Extract Silver-standard-STAPLE.zip and re-organize -----\n",
    "silver_standard = \"Silver-standard-machine-learning\"\n",
    "\n",
    "with zipfile.ZipFile(data_path / \"Skull-stripping-masks\" / f\"{silver_standard}.zip\", \"r\") as zip_file:\n",
    "    zip_file.extractall(output_path)\n",
    "\n",
    "for sub_vendor, vendor in vendors.items():\n",
    "    vendor_path = output_path / \"Silver-standard\" / vendor\n",
    "    vendor_path.mkdir(parents=True, exist_ok=True)\n",
    "\n",
    "    for file_path in glob.iglob(str(output_path / \"Silver-standard\" / f\"CC*_{sub_vendor}_*.nii.gz\")):\n",
    "        shutil.move(file_path, vendor_path)"
   ]
  },
  {
   "cell_type": "code",
   "execution_count": 4,
   "id": "9c97bc49",
   "metadata": {},
   "outputs": [],
   "source": [
    "# final cleanup\n",
    "shutil.rmtree(output_path / \"__MACOSX\")"
   ]
  },
  {
   "cell_type": "markdown",
   "id": "9a88ebc6",
   "metadata": {},
   "source": [
    "# Upload to W&B"
   ]
  },
  {
   "cell_type": "code",
   "execution_count": 5,
   "id": "c254ea28",
   "metadata": {},
   "outputs": [],
   "source": [
    "import wandb\n",
    "from pathlib import Path"
   ]
  },
  {
   "cell_type": "code",
   "execution_count": 6,
   "id": "6ecca929",
   "metadata": {},
   "outputs": [
    {
     "name": "stderr",
     "output_type": "stream",
     "text": [
      "\u001b[34m\u001b[1mwandb\u001b[0m: Currently logged in as: \u001b[33miserh\u001b[0m. Use \u001b[1m`wandb login --relogin`\u001b[0m to force relogin\n"
     ]
    },
    {
     "data": {
      "text/html": [
       "Tracking run with wandb version 0.13.2"
      ],
      "text/plain": [
       "<IPython.core.display.HTML object>"
      ]
     },
     "metadata": {},
     "output_type": "display_data"
    },
    {
     "data": {
      "text/html": [
       "Run data is saved locally in <code>/tmp/wandb/run-20220908_110104-1i9zfhd4</code>"
      ],
      "text/plain": [
       "<IPython.core.display.HTML object>"
      ]
     },
     "metadata": {},
     "output_type": "display_data"
    },
    {
     "data": {
      "text/html": [
       "Syncing run <strong><a href=\"https://wandb.ai/iserh/UDA-Datasets/runs/1i9zfhd4\" target=\"_blank\">splendid-frost-14</a></strong> to <a href=\"https://wandb.ai/iserh/UDA-Datasets\" target=\"_blank\">Weights & Biases</a> (<a href=\"https://wandb.me/run\" target=\"_blank\">docs</a>)<br/>"
      ],
      "text/plain": [
       "<IPython.core.display.HTML object>"
      ]
     },
     "metadata": {},
     "output_type": "display_data"
    },
    {
     "name": "stderr",
     "output_type": "stream",
     "text": [
      "\u001b[34m\u001b[1mwandb\u001b[0m: Adding directory to artifact (/tmp/data/CC359)... Done. 1.0s\n"
     ]
    },
    {
     "data": {
      "text/html": [
       "Waiting for W&B process to finish... <strong style=\"color:green\">(success).</strong>"
      ],
      "text/plain": [
       "<IPython.core.display.HTML object>"
      ]
     },
     "metadata": {},
     "output_type": "display_data"
    },
    {
     "data": {
      "application/vnd.jupyter.widget-view+json": {
       "model_id": "",
       "version_major": 2,
       "version_minor": 0
      },
      "text/plain": [
       "VBox(children=(Label(value='4019.320 MB of 4019.320 MB uploaded (4019.313 MB deduped)\\r'), FloatProgress(value…"
      ]
     },
     "metadata": {},
     "output_type": "display_data"
    },
    {
     "data": {
      "text/html": [
       "W&B sync reduced upload amount by 100.0%             "
      ],
      "text/plain": [
       "<IPython.core.display.HTML object>"
      ]
     },
     "metadata": {},
     "output_type": "display_data"
    },
    {
     "data": {
      "text/html": [
       "Synced <strong style=\"color:#cdcd00\">splendid-frost-14</strong>: <a href=\"https://wandb.ai/iserh/UDA-Datasets/runs/1i9zfhd4\" target=\"_blank\">https://wandb.ai/iserh/UDA-Datasets/runs/1i9zfhd4</a><br/>Synced 7 W&B file(s), 0 media file(s), 720 artifact file(s) and 1 other file(s)"
      ],
      "text/plain": [
       "<IPython.core.display.HTML object>"
      ]
     },
     "metadata": {},
     "output_type": "display_data"
    },
    {
     "data": {
      "text/html": [
       "Find logs at: <code>/tmp/wandb/run-20220908_110104-1i9zfhd4/logs</code>"
      ],
      "text/plain": [
       "<IPython.core.display.HTML object>"
      ]
     },
     "metadata": {},
     "output_type": "display_data"
    }
   ],
   "source": [
    "run = wandb.init(project=\"UDA-Datasets\")\n",
    "\n",
    "artifact = wandb.Artifact(\"CC359-Skull-stripping\", type=\"raw_data\")\n",
    "artifact.add_dir(output_path)\n",
    "run.log_artifact(artifact)\n",
    "\n",
    "wandb.finish()"
   ]
  }
 ],
 "metadata": {
  "kernelspec": {
   "display_name": "Python 3 (ipykernel)",
   "language": "python",
   "name": "python3"
  },
  "language_info": {
   "codemirror_mode": {
    "name": "ipython",
    "version": 3
   },
   "file_extension": ".py",
   "mimetype": "text/x-python",
   "name": "python",
   "nbconvert_exporter": "python",
   "pygments_lexer": "ipython3",
   "version": "3.9.13"
  }
 },
 "nbformat": 4,
 "nbformat_minor": 5
}
