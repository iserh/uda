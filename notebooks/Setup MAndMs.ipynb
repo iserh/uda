{
 "cells": [
  {
   "cell_type": "markdown",
   "id": "a0e737de",
   "metadata": {},
   "source": [
    "# Setup MAndMs Dataset\n",
    "Download the dataset from https://mega.nz/folder/FxAmhbRJ#Dwugf8isRSR9CCZ6Qnza4w and place the contents in directory `data_path`.\n",
    "\n",
    "Directory should have the following file structure:\n",
    "- Training\n",
    "  - Labeled\n",
    "  - Unlabeled\n",
    "- Validation\n",
    "- Testing\n",
    "- 211230_M&Ms_Dataset_information_diagnosis_opendataset.csv"
   ]
  },
  {
   "cell_type": "code",
   "execution_count": 1,
   "id": "59cd23cf",
   "metadata": {},
   "outputs": [],
   "source": [
    "import pandas as pd\n",
    "import glob\n",
    "import shutil\n",
    "from pathlib import Path\n",
    "\n",
    "data_path = Path(\"/tmp/data/MAndMs-RAW\")\n",
    "output_path = Path(\"/tmp/data/MAndMs\")\n",
    "output_path.mkdir(parents=True, exist_ok=True)"
   ]
  },
  {
   "cell_type": "code",
   "execution_count": 2,
   "id": "fd029db7",
   "metadata": {},
   "outputs": [],
   "source": [
    "df = pd.read_csv(data_path / \"211230_M&Ms_Dataset_information_diagnosis_opendataset.csv\", index_col=0)\n",
    "\n",
    "shutil.move(data_path / \"211230_M&Ms_Dataset_information_diagnosis_opendataset.csv\", output_path);"
   ]
  },
  {
   "cell_type": "code",
   "execution_count": 3,
   "id": "4c74900b",
   "metadata": {},
   "outputs": [],
   "source": [
    "# Union the Labeled and Unlabeled train examples\n",
    "for file_path in glob.iglob(str(data_path / \"Training\" / \"Labeled\" / \"*\")):\n",
    "    shutil.move(file_path, data_path / \"Training\")\n",
    "\n",
    "for file_path in glob.iglob(str(data_path / \"Training\" / \"Unlabeled\" / \"*\")):\n",
    "    shutil.move(file_path, data_path / \"Training\")\n",
    "\n",
    "shutil.rmtree(data_path / \"Training\" / \"Labeled\")\n",
    "shutil.rmtree(data_path / \"Training\" / \"Unlabeled\")"
   ]
  },
  {
   "cell_type": "code",
   "execution_count": 4,
   "id": "d093d3cc",
   "metadata": {},
   "outputs": [
    {
     "data": {
      "text/html": [
       "<div>\n",
       "<style scoped>\n",
       "    .dataframe tbody tr th:only-of-type {\n",
       "        vertical-align: middle;\n",
       "    }\n",
       "\n",
       "    .dataframe tbody tr th {\n",
       "        vertical-align: top;\n",
       "    }\n",
       "\n",
       "    .dataframe thead th {\n",
       "        text-align: right;\n",
       "    }\n",
       "</style>\n",
       "<table border=\"1\" class=\"dataframe\">\n",
       "  <thead>\n",
       "    <tr style=\"text-align: right;\">\n",
       "      <th></th>\n",
       "      <th>split</th>\n",
       "      <th>file_path</th>\n",
       "      <th>file_name</th>\n",
       "      <th>External code</th>\n",
       "      <th>VendorName</th>\n",
       "      <th>Vendor</th>\n",
       "      <th>Centre</th>\n",
       "      <th>ED</th>\n",
       "      <th>ES</th>\n",
       "      <th>Age</th>\n",
       "      <th>Pathology</th>\n",
       "      <th>Sex</th>\n",
       "      <th>Height</th>\n",
       "      <th>Weight</th>\n",
       "    </tr>\n",
       "  </thead>\n",
       "  <tbody>\n",
       "    <tr>\n",
       "      <th>0</th>\n",
       "      <td>Training</td>\n",
       "      <td>/tmp/data/MAndMs-RAW/Training/E4M2Q7</td>\n",
       "      <td>E4M2Q7</td>\n",
       "      <td>E4M2Q7</td>\n",
       "      <td>Philips</td>\n",
       "      <td>B</td>\n",
       "      <td>3</td>\n",
       "      <td>0</td>\n",
       "      <td>8</td>\n",
       "      <td>27</td>\n",
       "      <td>DCM</td>\n",
       "      <td>F</td>\n",
       "      <td>NaN</td>\n",
       "      <td>50.0</td>\n",
       "    </tr>\n",
       "    <tr>\n",
       "      <th>1</th>\n",
       "      <td>Training</td>\n",
       "      <td>/tmp/data/MAndMs-RAW/Training/H1W2Y1</td>\n",
       "      <td>H1W2Y1</td>\n",
       "      <td>H1W2Y1</td>\n",
       "      <td>Philips</td>\n",
       "      <td>B</td>\n",
       "      <td>2</td>\n",
       "      <td>29</td>\n",
       "      <td>10</td>\n",
       "      <td>61</td>\n",
       "      <td>HCM</td>\n",
       "      <td>M</td>\n",
       "      <td>NaN</td>\n",
       "      <td>79.0</td>\n",
       "    </tr>\n",
       "    <tr>\n",
       "      <th>2</th>\n",
       "      <td>Training</td>\n",
       "      <td>/tmp/data/MAndMs-RAW/Training/M2P1R1</td>\n",
       "      <td>M2P1R1</td>\n",
       "      <td>M2P1R1</td>\n",
       "      <td>Siemens</td>\n",
       "      <td>A</td>\n",
       "      <td>1</td>\n",
       "      <td>0</td>\n",
       "      <td>10</td>\n",
       "      <td>72</td>\n",
       "      <td>NOR</td>\n",
       "      <td>F</td>\n",
       "      <td>160.0</td>\n",
       "      <td>63.0</td>\n",
       "    </tr>\n",
       "    <tr>\n",
       "      <th>3</th>\n",
       "      <td>Training</td>\n",
       "      <td>/tmp/data/MAndMs-RAW/Training/G2M7W4</td>\n",
       "      <td>G2M7W4</td>\n",
       "      <td>G2M7W4</td>\n",
       "      <td>Philips</td>\n",
       "      <td>B</td>\n",
       "      <td>3</td>\n",
       "      <td>24</td>\n",
       "      <td>9</td>\n",
       "      <td>31</td>\n",
       "      <td>DCM</td>\n",
       "      <td>M</td>\n",
       "      <td>NaN</td>\n",
       "      <td>83.0</td>\n",
       "    </tr>\n",
       "    <tr>\n",
       "      <th>4</th>\n",
       "      <td>Training</td>\n",
       "      <td>/tmp/data/MAndMs-RAW/Training/A1E9Q1</td>\n",
       "      <td>A1E9Q1</td>\n",
       "      <td>A1E9Q1</td>\n",
       "      <td>Siemens</td>\n",
       "      <td>A</td>\n",
       "      <td>1</td>\n",
       "      <td>0</td>\n",
       "      <td>9</td>\n",
       "      <td>16</td>\n",
       "      <td>DCM</td>\n",
       "      <td>M</td>\n",
       "      <td>175.0</td>\n",
       "      <td>75.0</td>\n",
       "    </tr>\n",
       "    <tr>\n",
       "      <th>...</th>\n",
       "      <td>...</td>\n",
       "      <td>...</td>\n",
       "      <td>...</td>\n",
       "      <td>...</td>\n",
       "      <td>...</td>\n",
       "      <td>...</td>\n",
       "      <td>...</td>\n",
       "      <td>...</td>\n",
       "      <td>...</td>\n",
       "      <td>...</td>\n",
       "      <td>...</td>\n",
       "      <td>...</td>\n",
       "      <td>...</td>\n",
       "      <td>...</td>\n",
       "    </tr>\n",
       "    <tr>\n",
       "      <th>340</th>\n",
       "      <td>Testing</td>\n",
       "      <td>/tmp/data/MAndMs-RAW/Testing/A4R4T0</td>\n",
       "      <td>A4R4T0</td>\n",
       "      <td>A4R4T0</td>\n",
       "      <td>Canon</td>\n",
       "      <td>D</td>\n",
       "      <td>5</td>\n",
       "      <td>21</td>\n",
       "      <td>8</td>\n",
       "      <td>63</td>\n",
       "      <td>Other</td>\n",
       "      <td>F</td>\n",
       "      <td>148.0</td>\n",
       "      <td>54.0</td>\n",
       "    </tr>\n",
       "    <tr>\n",
       "      <th>341</th>\n",
       "      <td>Testing</td>\n",
       "      <td>/tmp/data/MAndMs-RAW/Testing/G1K1V3</td>\n",
       "      <td>G1K1V3</td>\n",
       "      <td>G1K1V3</td>\n",
       "      <td>Philips</td>\n",
       "      <td>B</td>\n",
       "      <td>2</td>\n",
       "      <td>29</td>\n",
       "      <td>11</td>\n",
       "      <td>21</td>\n",
       "      <td>NOR</td>\n",
       "      <td>F</td>\n",
       "      <td>NaN</td>\n",
       "      <td>60.0</td>\n",
       "    </tr>\n",
       "    <tr>\n",
       "      <th>342</th>\n",
       "      <td>Testing</td>\n",
       "      <td>/tmp/data/MAndMs-RAW/Testing/E6M6P2</td>\n",
       "      <td>E6M6P2</td>\n",
       "      <td>E6M6P2</td>\n",
       "      <td>GE</td>\n",
       "      <td>C</td>\n",
       "      <td>4</td>\n",
       "      <td>24</td>\n",
       "      <td>7</td>\n",
       "      <td>24</td>\n",
       "      <td>Other</td>\n",
       "      <td>M</td>\n",
       "      <td>NaN</td>\n",
       "      <td>75.0</td>\n",
       "    </tr>\n",
       "    <tr>\n",
       "      <th>343</th>\n",
       "      <td>Testing</td>\n",
       "      <td>/tmp/data/MAndMs-RAW/Testing/E1L7M3</td>\n",
       "      <td>E1L7M3</td>\n",
       "      <td>E1L7M3</td>\n",
       "      <td>Canon</td>\n",
       "      <td>D</td>\n",
       "      <td>5</td>\n",
       "      <td>1</td>\n",
       "      <td>12</td>\n",
       "      <td>15</td>\n",
       "      <td>HCM</td>\n",
       "      <td>M</td>\n",
       "      <td>157.0</td>\n",
       "      <td>50.0</td>\n",
       "    </tr>\n",
       "    <tr>\n",
       "      <th>344</th>\n",
       "      <td>Testing</td>\n",
       "      <td>/tmp/data/MAndMs-RAW/Testing/A3P9V7</td>\n",
       "      <td>A3P9V7</td>\n",
       "      <td>A3P9V7</td>\n",
       "      <td>Canon</td>\n",
       "      <td>D</td>\n",
       "      <td>5</td>\n",
       "      <td>27</td>\n",
       "      <td>13</td>\n",
       "      <td>79</td>\n",
       "      <td>HHD</td>\n",
       "      <td>F</td>\n",
       "      <td>160.0</td>\n",
       "      <td>64.0</td>\n",
       "    </tr>\n",
       "  </tbody>\n",
       "</table>\n",
       "<p>345 rows × 14 columns</p>\n",
       "</div>"
      ],
      "text/plain": [
       "        split                             file_path file_name External code  \\\n",
       "0    Training  /tmp/data/MAndMs-RAW/Training/E4M2Q7    E4M2Q7        E4M2Q7   \n",
       "1    Training  /tmp/data/MAndMs-RAW/Training/H1W2Y1    H1W2Y1        H1W2Y1   \n",
       "2    Training  /tmp/data/MAndMs-RAW/Training/M2P1R1    M2P1R1        M2P1R1   \n",
       "3    Training  /tmp/data/MAndMs-RAW/Training/G2M7W4    G2M7W4        G2M7W4   \n",
       "4    Training  /tmp/data/MAndMs-RAW/Training/A1E9Q1    A1E9Q1        A1E9Q1   \n",
       "..        ...                                   ...       ...           ...   \n",
       "340   Testing   /tmp/data/MAndMs-RAW/Testing/A4R4T0    A4R4T0        A4R4T0   \n",
       "341   Testing   /tmp/data/MAndMs-RAW/Testing/G1K1V3    G1K1V3        G1K1V3   \n",
       "342   Testing   /tmp/data/MAndMs-RAW/Testing/E6M6P2    E6M6P2        E6M6P2   \n",
       "343   Testing   /tmp/data/MAndMs-RAW/Testing/E1L7M3    E1L7M3        E1L7M3   \n",
       "344   Testing   /tmp/data/MAndMs-RAW/Testing/A3P9V7    A3P9V7        A3P9V7   \n",
       "\n",
       "    VendorName Vendor  Centre  ED  ES  Age Pathology Sex  Height  Weight  \n",
       "0      Philips      B       3   0   8   27       DCM   F     NaN    50.0  \n",
       "1      Philips      B       2  29  10   61       HCM   M     NaN    79.0  \n",
       "2      Siemens      A       1   0  10   72       NOR   F   160.0    63.0  \n",
       "3      Philips      B       3  24   9   31       DCM   M     NaN    83.0  \n",
       "4      Siemens      A       1   0   9   16       DCM   M   175.0    75.0  \n",
       "..         ...    ...     ...  ..  ..  ...       ...  ..     ...     ...  \n",
       "340      Canon      D       5  21   8   63     Other   F   148.0    54.0  \n",
       "341    Philips      B       2  29  11   21       NOR   F     NaN    60.0  \n",
       "342         GE      C       4  24   7   24     Other   M     NaN    75.0  \n",
       "343      Canon      D       5   1  12   15       HCM   M   157.0    50.0  \n",
       "344      Canon      D       5  27  13   79       HHD   F   160.0    64.0  \n",
       "\n",
       "[345 rows x 14 columns]"
      ]
     },
     "execution_count": 4,
     "metadata": {},
     "output_type": "execute_result"
    }
   ],
   "source": [
    "df_files = pd.DataFrame(columns=[\"split\", \"file_path\", \"file_name\"])\n",
    "\n",
    "train_files = [Path(file_path) for file_path in glob.iglob(str(data_path / \"Training\" / \"*\"))]\n",
    "df_files = pd.concat([\n",
    "    df_files,\n",
    "    pd.DataFrame.from_dict({\n",
    "        \"split\": \"Training\",\n",
    "        \"file_path\": train_files,\n",
    "        \"file_name\": [fp.name for fp in train_files]\n",
    "    })\n",
    "])\n",
    "\n",
    "val_files = [Path(file_path) for file_path in glob.iglob(str(data_path / \"Validation\" / \"*\"))]\n",
    "df_files = pd.concat([\n",
    "    df_files,\n",
    "    pd.DataFrame.from_dict({\n",
    "        \"split\": \"Training\",  # We split train & validation later\n",
    "        \"file_path\": val_files,\n",
    "        \"file_name\": [fp.name for fp in val_files]\n",
    "    })\n",
    "])\n",
    "\n",
    "test_files = [Path(file_path) for file_path in glob.iglob(str(data_path / \"Testing\" / \"*\"))]\n",
    "df_files = pd.concat([\n",
    "    df_files,\n",
    "    pd.DataFrame.from_dict({\n",
    "        \"split\": \"Testing\",\n",
    "        \"file_path\": test_files,\n",
    "        \"file_name\": [fp.name for fp in test_files]\n",
    "    })\n",
    "])\n",
    "\n",
    "df_merged = pd.merge(df_files, df, left_on='file_name', right_on='External code')\n",
    "df_merged"
   ]
  },
  {
   "cell_type": "code",
   "execution_count": 5,
   "id": "e0cc1a1e",
   "metadata": {
    "scrolled": false
   },
   "outputs": [],
   "source": [
    "for vendor in df[\"VendorName\"].unique():\n",
    "    for split in df_merged[\"split\"].unique():\n",
    "        (output_path / vendor / split).mkdir(exist_ok=True, parents=True)"
   ]
  },
  {
   "cell_type": "code",
   "execution_count": 6,
   "id": "cc1115e2",
   "metadata": {},
   "outputs": [],
   "source": [
    "for _, row in df_merged.iterrows():\n",
    "    # print(row[\"file_path\"], \"->\", output_path / row[\"VendorName\"] / row[\"split\"])\n",
    "    shutil.move(row[\"file_path\"], output_path / row[\"VendorName\"] / row[\"split\"])"
   ]
  },
  {
   "cell_type": "markdown",
   "id": "32a5517d",
   "metadata": {},
   "source": [
    "# Upload to W&B"
   ]
  },
  {
   "cell_type": "code",
   "execution_count": 7,
   "id": "5fa3a3c4",
   "metadata": {},
   "outputs": [],
   "source": [
    "import wandb\n",
    "from pathlib import Path"
   ]
  },
  {
   "cell_type": "code",
   "execution_count": 8,
   "id": "31b808ea",
   "metadata": {},
   "outputs": [
    {
     "name": "stderr",
     "output_type": "stream",
     "text": [
      "\u001b[34m\u001b[1mwandb\u001b[0m: Currently logged in as: \u001b[33miserh\u001b[0m. Use \u001b[1m`wandb login --relogin`\u001b[0m to force relogin\n"
     ]
    },
    {
     "data": {
      "text/html": [
       "Tracking run with wandb version 0.13.2"
      ],
      "text/plain": [
       "<IPython.core.display.HTML object>"
      ]
     },
     "metadata": {},
     "output_type": "display_data"
    },
    {
     "data": {
      "text/html": [
       "Run data is saved locally in <code>/tmp/wandb/run-20220901_181048-1rpm1wzw</code>"
      ],
      "text/plain": [
       "<IPython.core.display.HTML object>"
      ]
     },
     "metadata": {},
     "output_type": "display_data"
    },
    {
     "data": {
      "text/html": [
       "Syncing run <strong><a href=\"https://wandb.ai/iserh/UDA-Datasets/runs/1rpm1wzw\" target=\"_blank\">dry-thunder-9</a></strong> to <a href=\"https://wandb.ai/iserh/UDA-Datasets\" target=\"_blank\">Weights & Biases</a> (<a href=\"https://wandb.me/run\" target=\"_blank\">docs</a>)<br/>"
      ],
      "text/plain": [
       "<IPython.core.display.HTML object>"
      ]
     },
     "metadata": {},
     "output_type": "display_data"
    },
    {
     "name": "stderr",
     "output_type": "stream",
     "text": [
      "\u001b[34m\u001b[1mwandb\u001b[0m: Adding directory to artifact (/tmp/data/MAndMs)... Done. 3.4s\n"
     ]
    },
    {
     "data": {
      "text/html": [
       "Waiting for W&B process to finish... <strong style=\"color:green\">(success).</strong>"
      ],
      "text/plain": [
       "<IPython.core.display.HTML object>"
      ]
     },
     "metadata": {},
     "output_type": "display_data"
    },
    {
     "data": {
      "application/vnd.jupyter.widget-view+json": {
       "model_id": "",
       "version_major": 2,
       "version_minor": 0
      },
      "text/plain": [
       "VBox(children=(Label(value='14667.715 MB of 14667.715 MB uploaded (14667.613 MB deduped)\\r'), FloatProgress(va…"
      ]
     },
     "metadata": {},
     "output_type": "display_data"
    },
    {
     "data": {
      "text/html": [
       "W&B sync reduced upload amount by 100.0%             "
      ],
      "text/plain": [
       "<IPython.core.display.HTML object>"
      ]
     },
     "metadata": {},
     "output_type": "display_data"
    },
    {
     "data": {
      "text/html": [
       "Synced <strong style=\"color:#cdcd00\">dry-thunder-9</strong>: <a href=\"https://wandb.ai/iserh/UDA-Datasets/runs/1rpm1wzw\" target=\"_blank\">https://wandb.ai/iserh/UDA-Datasets/runs/1rpm1wzw</a><br/>Synced 7 W&B file(s), 0 media file(s), 691 artifact file(s) and 2 other file(s)"
      ],
      "text/plain": [
       "<IPython.core.display.HTML object>"
      ]
     },
     "metadata": {},
     "output_type": "display_data"
    },
    {
     "data": {
      "text/html": [
       "Find logs at: <code>/tmp/wandb/run-20220901_181048-1rpm1wzw/logs</code>"
      ],
      "text/plain": [
       "<IPython.core.display.HTML object>"
      ]
     },
     "metadata": {},
     "output_type": "display_data"
    }
   ],
   "source": [
    "run = wandb.init(project=\"UDA-Datasets\")\n",
    "\n",
    "artifact = wandb.Artifact(\"MAndMs\", type=\"raw_data\")\n",
    "artifact.add_dir(output_path)\n",
    "run.log_artifact(artifact)\n",
    "\n",
    "wandb.finish()"
   ]
  }
 ],
 "metadata": {
  "kernelspec": {
   "display_name": "Python 3.9.13 ('uda')",
   "language": "python",
   "name": "python3"
  },
  "language_info": {
   "codemirror_mode": {
    "name": "ipython",
    "version": 3
   },
   "file_extension": ".py",
   "mimetype": "text/x-python",
   "name": "python",
   "nbconvert_exporter": "python",
   "pygments_lexer": "ipython3",
   "version": "3.9.13"
  },
  "vscode": {
   "interpreter": {
    "hash": "9bcf43fd28070f79a517f81758659f69011f725cffd2c0832fff1c14c055eba3"
   }
  }
 },
 "nbformat": 4,
 "nbformat_minor": 5
}
