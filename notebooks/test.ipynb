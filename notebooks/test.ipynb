{
 "cells": [
  {
   "cell_type": "code",
   "execution_count": 1,
   "metadata": {},
   "outputs": [],
   "source": [
    "import seaborn_image as isns\n",
    "from pypatchify.pt import pt\n",
    "from uda.datasets import MAndMs\n",
    "from uda.metrics import dice_score, surface_dice\n",
    "from ignite.utils import to_onehot\n",
    "import torch"
   ]
  },
  {
   "cell_type": "code",
   "execution_count": 2,
   "metadata": {},
   "outputs": [
    {
     "name": "stderr",
     "output_type": "stream",
     "text": [
      "Loading Labeled data: 100%|██████████████████████████████████████████████████████████████████████████████████████████████████████████████████| 2/2 [00:01<00:00,  1.83it/s]\n",
      "Loading Validation data: 100%|███████████████████████████████████████████████████████████████████████████████████████████████████████████████| 2/2 [00:00<00:00,  2.44it/s]\n",
      "Loading Testing data: 100%|██████████████████████████████████████████████████████████████████████████████████████████████████████████████████| 2/2 [00:02<00:00,  1.31s/it]\n"
     ]
    }
   ],
   "source": [
    "dataset = MAndMs(\"../config/dataset.yaml\")\n",
    "dataset.setup()\n",
    "\n",
    "y_true = dataset.val_split.tensors[1]"
   ]
  },
  {
   "cell_type": "code",
   "execution_count": 3,
   "metadata": {},
   "outputs": [
    {
     "data": {
      "text/plain": [
       "torch.Size([48, 4, 256, 256])"
      ]
     },
     "execution_count": 3,
     "metadata": {},
     "output_type": "execute_result"
    }
   ],
   "source": [
    "preds = y_true.clone()\n",
    "targets = y_true.clone()\n",
    "\n",
    "mask = (y_true > 0) * torch.Tensor([0.5, 0.8, 0.2, 1.0]).reshape(1, -1, 1, 1)\n",
    "mask = torch.bernoulli(mask).bool()\n",
    "\n",
    "preds[mask] = 0\n",
    "preds[mask[:, [1, 2, 3, 0]]] = 1\n",
    "\n",
    "preds.shape"
   ]
  },
  {
   "cell_type": "code",
   "execution_count": 4,
   "metadata": {},
   "outputs": [
    {
     "name": "stdout",
     "output_type": "stream",
     "text": [
      "tensor(0.6652)\n",
      "tensor(0.2815)\n",
      "tensor(0.5747)\n",
      "tensor(6.3884e-12)\n"
     ]
    }
   ],
   "source": [
    "for d in dice_score(preds, y_true):\n",
    "    print(d)"
   ]
  },
  {
   "cell_type": "code",
   "execution_count": 5,
   "metadata": {},
   "outputs": [
    {
     "data": {
      "text/plain": [
       "torch.Size([48, 256, 256])"
      ]
     },
     "execution_count": 5,
     "metadata": {},
     "output_type": "execute_result"
    }
   ],
   "source": [
    "preds = preds.argmax(1)\n",
    "targets = targets.argmax(1)\n",
    "preds.shape"
   ]
  },
  {
   "cell_type": "code",
   "execution_count": 6,
   "metadata": {},
   "outputs": [
    {
     "data": {
      "text/plain": [
       "torch.Size([4, 12, 256, 256])"
      ]
     },
     "execution_count": 6,
     "metadata": {},
     "output_type": "execute_result"
    }
   ],
   "source": [
    "if dataset.flatten:\n",
    "    preds = preds.reshape(-1, dataset.imsize[0], *preds.shape[-2:])\n",
    "    targets = targets.reshape(-1, dataset.imsize[0], *targets.shape[-2:])\n",
    "\n",
    "preds = pt.unpatchify_from_batches(preds, dataset.imsize)\n",
    "targets = pt.unpatchify_from_batches(targets, dataset.imsize)\n",
    "preds.shape"
   ]
  },
  {
   "cell_type": "code",
   "execution_count": 7,
   "metadata": {},
   "outputs": [
    {
     "data": {
      "text/plain": [
       "torch.Size([4, 4, 12, 256, 256])"
      ]
     },
     "execution_count": 7,
     "metadata": {},
     "output_type": "execute_result"
    }
   ],
   "source": [
    "preds = to_onehot(preds, 4)\n",
    "preds.shape"
   ]
  },
  {
   "cell_type": "code",
   "execution_count": 9,
   "metadata": {},
   "outputs": [
    {
     "name": "stdout",
     "output_type": "stream",
     "text": [
      "tensor(0.6652)\n",
      "tensor(0.2815)\n",
      "tensor(0.5747)\n",
      "tensor(6.3884e-12)\n"
     ]
    }
   ],
   "source": [
    "for d in dice_score(preds, targets):\n",
    "    print(d)"
   ]
  },
  {
   "cell_type": "code",
   "execution_count": 19,
   "metadata": {},
   "outputs": [
    {
     "data": {
      "application/vnd.jupyter.widget-view+json": {
       "model_id": "39a2fa779f854564888aa569ab03a94a",
       "version_major": 2,
       "version_minor": 0
      },
      "text/plain": [
       "Computing surface dice:   0%|          | 0/16 [00:00<?, ?it/s]"
      ]
     },
     "metadata": {},
     "output_type": "display_data"
    },
    {
     "name": "stdout",
     "output_type": "stream",
     "text": [
      "tensor(0.1444)\n",
      "tensor(0.3760)\n",
      "tensor(0.7313)\n",
      "tensor(0.0035)\n"
     ]
    }
   ],
   "source": [
    "for d in surface_dice(preds, targets, dataset.val_spacings, tolerance_mm=1):\n",
    "    print(d)"
   ]
  },
  {
   "cell_type": "code",
   "execution_count": 20,
   "metadata": {},
   "outputs": [
    {
     "data": {
      "text/plain": [
       "torch.Size([4, 4, 12, 256, 256])"
      ]
     },
     "execution_count": 20,
     "metadata": {},
     "output_type": "execute_result"
    }
   ],
   "source": [
    "preds.shape"
   ]
  },
  {
   "cell_type": "code",
   "execution_count": 37,
   "metadata": {},
   "outputs": [],
   "source": [
    "from itertools import chain\n",
    "def remove_idx(t: torch.Tensor, idx: int, dim: int) -> torch.Tensor:\n",
    "    assert idx < t.shape[dim]\n",
    "    indices = torch.LongTensor(list(chain(range(idx), range(idx+1, t.shape[dim]))))\n",
    "    return torch.index_select(t, dim, indices)"
   ]
  },
  {
   "cell_type": "code",
   "execution_count": 38,
   "metadata": {},
   "outputs": [
    {
     "ename": "AssertionError",
     "evalue": "",
     "output_type": "error",
     "traceback": [
      "\u001b[0;31m---------------------------------------------------------------------------\u001b[0m",
      "\u001b[0;31mAssertionError\u001b[0m                            Traceback (most recent call last)",
      "Input \u001b[0;32mIn [38]\u001b[0m, in \u001b[0;36m<cell line: 1>\u001b[0;34m()\u001b[0m\n\u001b[0;32m----> 1\u001b[0m \u001b[43mremove_idx\u001b[49m\u001b[43m(\u001b[49m\u001b[43mpreds\u001b[49m\u001b[43m,\u001b[49m\u001b[43m \u001b[49m\u001b[38;5;241;43m4\u001b[39;49m\u001b[43m,\u001b[49m\u001b[43m \u001b[49m\u001b[38;5;241;43m1\u001b[39;49m\u001b[43m)\u001b[49m\u001b[38;5;241m.\u001b[39mshape\n",
      "Input \u001b[0;32mIn [37]\u001b[0m, in \u001b[0;36mremove_idx\u001b[0;34m(t, idx, dim)\u001b[0m\n\u001b[1;32m      2\u001b[0m \u001b[38;5;28;01mdef\u001b[39;00m \u001b[38;5;21mremove_idx\u001b[39m(t: torch\u001b[38;5;241m.\u001b[39mTensor, idx: \u001b[38;5;28mint\u001b[39m, dim: \u001b[38;5;28mint\u001b[39m) \u001b[38;5;241m-\u001b[39m\u001b[38;5;241m>\u001b[39m torch\u001b[38;5;241m.\u001b[39mTensor:\n\u001b[0;32m----> 3\u001b[0m     \u001b[38;5;28;01massert\u001b[39;00m idx \u001b[38;5;241m<\u001b[39m t\u001b[38;5;241m.\u001b[39mshape[dim]\n\u001b[1;32m      4\u001b[0m     indices \u001b[38;5;241m=\u001b[39m torch\u001b[38;5;241m.\u001b[39mLongTensor(\u001b[38;5;28mlist\u001b[39m(chain(\u001b[38;5;28mrange\u001b[39m(idx), \u001b[38;5;28mrange\u001b[39m(idx\u001b[38;5;241m+\u001b[39m\u001b[38;5;241m1\u001b[39m, t\u001b[38;5;241m.\u001b[39mshape[dim]))))\n\u001b[1;32m      5\u001b[0m     \u001b[38;5;28;01mreturn\u001b[39;00m torch\u001b[38;5;241m.\u001b[39mindex_select(t, dim, indices)\n",
      "\u001b[0;31mAssertionError\u001b[0m: "
     ]
    }
   ],
   "source": [
    "remove_idx(preds, 4, 1).shape"
   ]
  }
 ],
 "metadata": {
  "kernelspec": {
   "display_name": "Python (uda)",
   "language": "python",
   "name": "uda"
  },
  "language_info": {
   "codemirror_mode": {
    "name": "ipython",
    "version": 3
   },
   "file_extension": ".py",
   "mimetype": "text/x-python",
   "name": "python",
   "nbconvert_exporter": "python",
   "pygments_lexer": "ipython3",
   "version": "3.9.12"
  }
 },
 "nbformat": 4,
 "nbformat_minor": 2
}
