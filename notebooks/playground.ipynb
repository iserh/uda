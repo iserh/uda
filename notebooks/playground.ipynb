{
 "cells": [
  {
   "cell_type": "markdown",
   "metadata": {},
   "source": [
    "# Playground"
   ]
  },
  {
   "cell_type": "code",
   "execution_count": 27,
   "metadata": {},
   "outputs": [
    {
     "name": "stdout",
     "output_type": "stream",
     "text": [
      "Using device: cuda:0\n"
     ]
    }
   ],
   "source": [
    "import wandb\n",
    "import torch\n",
    "import seaborn_image as isns\n",
    "from pathlib import Path\n",
    "\n",
    "from uda import UNetConfig, UNet, CC359, CC359Config, HParams\n",
    "from uda.utils import reshape_to_volume\n",
    "from uda.metrics import surface_dice\n",
    "from tqdm.notebook import tqdm\n",
    "\n",
    "device = \"cuda:0\" if torch.cuda.is_available() else \"cpu\"\n",
    "print(f\"Using device: {device}\")\n",
    "\n",
    "files_dir = Path(\"/tmp/files\")\n",
    "data_dir = Path(\"/tmp/data/CC359\")\n",
    "run_id = \"3c4h822p\""
   ]
  },
  {
   "cell_type": "code",
   "execution_count": 28,
   "metadata": {},
   "outputs": [],
   "source": [
    "wandb.restore(\"config/cc359.yml\", f\"tiser/UDA/{run_id}\", root=files_dir, replace=True)\n",
    "wandb.restore(\"config/hparams.yml\", f\"tiser/UDA/{run_id}\", root=files_dir, replace=True)\n",
    "wandb.restore(\"config/unet.yml\", f\"tiser/UDA/{run_id}\", root=files_dir, replace=True)\n",
    "\n",
    "wandb.restore(\"best_model\", f\"tiser/UDA/{run_id}\", root=files_dir, replace=True);"
   ]
  },
  {
   "cell_type": "code",
   "execution_count": 29,
   "metadata": {},
   "outputs": [
    {
     "data": {
      "application/vnd.jupyter.widget-view+json": {
       "model_id": "299720dc1462453aaaaf90cc70f37df8",
       "version_major": 2,
       "version_minor": 0
      },
      "text/plain": [
       "Loading files:   0%|          | 0/20 [00:00<?, ?it/s]"
      ]
     },
     "metadata": {},
     "output_type": "display_data"
    }
   ],
   "source": [
    "dataset_conf = CC359Config.from_file(files_dir / \"config/cc359.yml\")\n",
    "hparams = HParams.from_file(files_dir / \"config/hparams.yml\")\n",
    "\n",
    "val_dataset = CC359(data_dir, dataset_conf, train=False)\n",
    "val_loader = torch.utils.data.DataLoader(val_dataset, batch_size=hparams.val_batch_size, shuffle=False)"
   ]
  },
  {
   "cell_type": "code",
   "execution_count": 30,
   "metadata": {},
   "outputs": [],
   "source": [
    "unet_conf = UNetConfig.from_file(files_dir / \"config/unet.yml\")\n",
    "model = UNet.from_pretrained(files_dir / \"best_model\", unet_conf)"
   ]
  },
  {
   "cell_type": "code",
   "execution_count": 31,
   "metadata": {},
   "outputs": [
    {
     "data": {
      "application/vnd.jupyter.widget-view+json": {
       "model_id": "c4b4a08160ce42f5bd6d9e2a80a5fbf2",
       "version_major": 2,
       "version_minor": 0
      },
      "text/plain": [
       "  0%|          | 0/160 [00:00<?, ?it/s]"
      ]
     },
     "metadata": {},
     "output_type": "display_data"
    },
    {
     "data": {
      "text/plain": [
       "torch.Size([20, 192, 256, 256])"
      ]
     },
     "execution_count": 31,
     "metadata": {},
     "output_type": "execute_result"
    }
   ],
   "source": [
    "model.eval().to(device)\n",
    "\n",
    "with torch.no_grad():\n",
    "    preds, targets = [*zip(*[(model(x.to(device)).cpu(), y_true) for x, y_true in tqdm(val_loader)])]\n",
    "\n",
    "preds = reshape_to_volume(torch.cat(preds).round(), val_dataset.PADDING_SHAPE, val_dataset.patch_dims)\n",
    "targets = reshape_to_volume(torch.cat(targets), val_dataset.PADDING_SHAPE, val_dataset.patch_dims)\n",
    "\n",
    "model.cpu()\n",
    "\n",
    "preds.shape"
   ]
  },
  {
   "cell_type": "markdown",
   "metadata": {},
   "source": [
    "3D-UNet:"
   ]
  },
  {
   "cell_type": "code",
   "execution_count": 26,
   "metadata": {},
   "outputs": [
    {
     "data": {
      "application/vnd.jupyter.widget-view+json": {
       "model_id": "5fabda06091c476e85ab14e9b3dc5678",
       "version_major": 2,
       "version_minor": 0
      },
      "text/plain": [
       "Computing surface dice:   0%|          | 0/20 [00:00<?, ?it/s]"
      ]
     },
     "metadata": {},
     "output_type": "display_data"
    },
    {
     "data": {
      "text/plain": [
       "tensor(0.9043)"
      ]
     },
     "execution_count": 26,
     "metadata": {},
     "output_type": "execute_result"
    }
   ],
   "source": [
    "sf_dice = surface_dice(preds, targets, val_dataset.spacing_mm, tolerance_mm=1, prog_bar=True)\n",
    "\n",
    "sf_dice.mean()"
   ]
  },
  {
   "cell_type": "markdown",
   "metadata": {},
   "source": [
    "2D-UNet:"
   ]
  },
  {
   "cell_type": "code",
   "execution_count": 32,
   "metadata": {},
   "outputs": [
    {
     "data": {
      "application/vnd.jupyter.widget-view+json": {
       "model_id": "55271dad9b9743f0ad232991050ade49",
       "version_major": 2,
       "version_minor": 0
      },
      "text/plain": [
       "Computing surface dice:   0%|          | 0/20 [00:00<?, ?it/s]"
      ]
     },
     "metadata": {},
     "output_type": "display_data"
    },
    {
     "data": {
      "text/plain": [
       "tensor(0.9370)"
      ]
     },
     "execution_count": 32,
     "metadata": {},
     "output_type": "execute_result"
    }
   ],
   "source": [
    "sf_dice = surface_dice(preds, targets, val_dataset.spacing_mm, tolerance_mm=1, prog_bar=True)\n",
    "\n",
    "sf_dice.mean()"
   ]
  }
 ],
 "metadata": {
  "interpreter": {
   "hash": "9bcf43fd28070f79a517f81758659f69011f725cffd2c0832fff1c14c055eba3"
  },
  "kernelspec": {
   "display_name": "Python 3.9.12 ('uda')",
   "language": "python",
   "name": "python3"
  },
  "language_info": {
   "codemirror_mode": {
    "name": "ipython",
    "version": 3
   },
   "file_extension": ".py",
   "mimetype": "text/x-python",
   "name": "python",
   "nbconvert_exporter": "python",
   "pygments_lexer": "ipython3",
   "version": "3.9.12"
  },
  "orig_nbformat": 4
 },
 "nbformat": 4,
 "nbformat_minor": 2
}
