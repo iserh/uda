{
 "cells": [
  {
   "cell_type": "markdown",
   "metadata": {},
   "source": [
    "# Playground"
   ]
  },
  {
   "cell_type": "code",
   "execution_count": 1,
   "metadata": {},
   "outputs": [],
   "source": [
    "import torch\n",
    "from uda import UNet\n",
    "from uda.models import vanilla_unet, uda_unet\n",
    "from pprint import pprint"
   ]
  },
  {
   "cell_type": "code",
   "execution_count": 2,
   "metadata": {},
   "outputs": [
    {
     "name": "stdout",
     "output_type": "stream",
     "text": [
      "{'concat_hidden': True,\n",
      " 'decoder_blocks': [[1024, 512, 512],\n",
      "                    [512, 256, 256],\n",
      "                    [256, 128, 128],\n",
      "                    [128, 64, 64]],\n",
      " 'dim': 3,\n",
      " 'encoder_blocks': [[1, 64, 64],\n",
      "                    [64, 128, 128],\n",
      "                    [128, 256, 256],\n",
      "                    [256, 512, 512],\n",
      "                    [512, 1024, 1024]],\n",
      " 'out_channels': 1,\n",
      " 'use_pooling': True}\n",
      "# parameters: 90,306,113\n"
     ]
    }
   ],
   "source": [
    "config = vanilla_unet(1, 1, dim=3)\n",
    "model = UNet(config)\n",
    "\n",
    "pprint(config.__dict__)\n",
    "\n",
    "n_params = sum(p.numel() for p in model.parameters() if p.requires_grad)\n",
    "print(f\"# parameters: {n_params:,}\")"
   ]
  },
  {
   "cell_type": "code",
   "execution_count": 3,
   "metadata": {},
   "outputs": [
    {
     "name": "stdout",
     "output_type": "stream",
     "text": [
      "{'concat_hidden': False,\n",
      " 'decoder_blocks': [[128, 64, 64, 64],\n",
      "                    [64, 32, 32, 32],\n",
      "                    [32, 16, 16, 16],\n",
      "                    [16, 8, 8, 8]],\n",
      " 'dim': 3,\n",
      " 'encoder_blocks': [[1, 8],\n",
      "                    [8, 16, 16, 16],\n",
      "                    [16, 32, 32, 32],\n",
      "                    [32, 64, 64, 64],\n",
      "                    [64, 128, 128, 128]],\n",
      " 'out_channels': 1,\n",
      " 'use_pooling': False}\n",
      "# parameters: 2,277,977\n"
     ]
    }
   ],
   "source": [
    "config = uda_unet(1, 1, dim=3)\n",
    "model = UNet(config)\n",
    "\n",
    "pprint(config.__dict__)\n",
    "\n",
    "n_params = sum(p.numel() for p in model.parameters() if p.requires_grad)\n",
    "print(f\"# parameters: {n_params:,}\")"
   ]
  },
  {
   "cell_type": "code",
   "execution_count": 4,
   "metadata": {},
   "outputs": [
    {
     "data": {
      "text/plain": [
       "torch.Size([2, 1, 128, 128, 128])"
      ]
     },
     "execution_count": 4,
     "metadata": {},
     "output_type": "execute_result"
    }
   ],
   "source": [
    "model = model.cuda()\n",
    "\n",
    "x = torch.empty(2, 1, 128, 128, 128).normal_()\n",
    "x_ = model(x.cuda()).detach().cpu()\n",
    "\n",
    "x_.shape"
   ]
  },
  {
   "cell_type": "code",
   "execution_count": 1,
   "metadata": {},
   "outputs": [],
   "source": [
    "import torch\n",
    "from uda import VAE\n",
    "from uda.models import uda_vae\n",
    "from pprint import pprint"
   ]
  },
  {
   "cell_type": "code",
   "execution_count": 3,
   "metadata": {},
   "outputs": [
    {
     "name": "stdout",
     "output_type": "stream",
     "text": [
      "{'decoder_blocks': [[256, 128, 128, 128],\n",
      "                    [128, 64, 64, 64],\n",
      "                    [64, 32, 32, 32],\n",
      "                    [32, 16, 16, 16],\n",
      "                    [16, 8, 8, 8]],\n",
      " 'dim': 3,\n",
      " 'encoder_blocks': [[1, 8],\n",
      "                    [8, 16, 16, 16],\n",
      "                    [16, 32, 32, 32],\n",
      "                    [32, 64, 64, 64],\n",
      "                    [64, 128, 128, 128],\n",
      "                    [128, 256, 256, 256]],\n",
      " 'input_size': (128, 128, 128),\n",
      " 'latent_dim': 1024,\n",
      " 'use_pooling': False}\n",
      "# parameters: 59,480,409\n"
     ]
    }
   ],
   "source": [
    "config = uda_vae((128, 128, 128), 1, dim=3)\n",
    "model = VAE(config)\n",
    "\n",
    "pprint(config.__dict__)\n",
    "\n",
    "n_params = sum(p.numel() for p in model.parameters() if p.requires_grad)\n",
    "print(f\"# parameters: {n_params:,}\")"
   ]
  },
  {
   "cell_type": "code",
   "execution_count": 4,
   "metadata": {},
   "outputs": [
    {
     "data": {
      "text/plain": [
       "torch.Size([2, 1, 128, 128, 128])"
      ]
     },
     "execution_count": 4,
     "metadata": {},
     "output_type": "execute_result"
    }
   ],
   "source": [
    "model = model.cuda()\n",
    "\n",
    "x = torch.empty(2, 1, 128, 128, 128).normal_()\n",
    "x = x.cuda()\n",
    "\n",
    "x_ = model(x).detach().cpu()\n",
    "\n",
    "x_.shape"
   ]
  }
 ],
 "metadata": {
  "interpreter": {
   "hash": "9bcf43fd28070f79a517f81758659f69011f725cffd2c0832fff1c14c055eba3"
  },
  "kernelspec": {
   "display_name": "Python 3.9.12 ('uda')",
   "language": "python",
   "name": "python3"
  },
  "language_info": {
   "codemirror_mode": {
    "name": "ipython",
    "version": 3
   },
   "file_extension": ".py",
   "mimetype": "text/x-python",
   "name": "python",
   "nbconvert_exporter": "python",
   "pygments_lexer": "ipython3",
   "version": "3.9.12"
  },
  "orig_nbformat": 4
 },
 "nbformat": 4,
 "nbformat_minor": 2
}
