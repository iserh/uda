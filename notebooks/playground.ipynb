{
 "cells": [
  {
   "cell_type": "markdown",
   "metadata": {},
   "source": [
    "# Playground"
   ]
  },
  {
   "cell_type": "code",
   "execution_count": 1,
   "metadata": {},
   "outputs": [
    {
     "name": "stdout",
     "output_type": "stream",
     "text": [
      "Using device: cuda:0\n"
     ]
    }
   ],
   "source": [
    "import torch\n",
    "from uda import UNet, UNetConfig\n",
    "from uda.datasets import CC359, CC359Config\n",
    "from uda.utils import patchify, unpatchify\n",
    "from pathlib import Path\n",
    "from uda.metrics import EpochDice, SurfaceDice, flatten_output\n",
    "import numpy as np\n",
    "\n",
    "device = \"cuda:0\" if torch.cuda.is_available() else \"cpu\"\n",
    "print(f\"Using device: {device}\")\n",
    "\n",
    "data_dir = Path(\"/tmp/data/CC359\")"
   ]
  },
  {
   "cell_type": "code",
   "execution_count": 2,
   "metadata": {},
   "outputs": [
    {
     "name": "stderr",
     "output_type": "stream",
     "text": [
      "Loading files: 100%|██████████| 20/20 [00:04<00:00,  4.54it/s]\n"
     ]
    }
   ],
   "source": [
    "dataset_conf = CC359Config(\n",
    "    vendor=\"GE_3\",\n",
    "    fold=1,\n",
    "    flatten=True,\n",
    ")\n",
    "dataset = CC359(data_dir, dataset_conf, train=False)\n",
    "dataloader = torch.utils.data.DataLoader(dataset, batch_size=4, shuffle=True)"
   ]
  },
  {
   "cell_type": "code",
   "execution_count": 3,
   "metadata": {},
   "outputs": [],
   "source": [
    "config = UNetConfig(\n",
    "    out_channels=1,\n",
    "    dim=2,\n",
    "    encoder_blocks=((1, 8),),\n",
    "    decoder_blocks=((8, 8),),\n",
    ")\n",
    "model = UNet(config)\n",
    "model = model.to(device)"
   ]
  },
  {
   "cell_type": "code",
   "execution_count": 4,
   "metadata": {},
   "outputs": [
    {
     "data": {
      "text/plain": [
       "torch.Size([251658240])"
      ]
     },
     "execution_count": 4,
     "metadata": {},
     "output_type": "execute_result"
    }
   ],
   "source": [
    "with torch.no_grad():\n",
    "    data, label, pred = [*zip(*[(data, label, model(data.to(device)).cpu()) for data, label in dataloader])]\n",
    "\n",
    "y = torch.cat(label)\n",
    "y_pred = torch.cat(pred)\n",
    "\n",
    "y_pred, y = flatten_output((y_pred, y))\n",
    "\n",
    "y_pred.shape"
   ]
  },
  {
   "cell_type": "code",
   "execution_count": 6,
   "metadata": {},
   "outputs": [
    {
     "data": {
      "text/plain": [
       "torch.Size([20])"
      ]
     },
     "execution_count": 6,
     "metadata": {},
     "output_type": "execute_result"
    }
   ],
   "source": [
    "epoch_dice = EpochDice(orig_shape=dataset.PADDING_SHAPE, reduce_mean=False)\n",
    "dsc = epoch_dice.compute_fn(y_pred, y)\n",
    "\n",
    "dsc.shape"
   ]
  },
  {
   "cell_type": "code",
   "execution_count": null,
   "metadata": {},
   "outputs": [],
   "source": [
    "surface_dice = SurfaceDice(dataset.spacing_mm, 0.5, reduce_mean=False, orig_shape=dataset.PADDING_SHAPE, patch_dims=dataset.patch_dims)\n",
    "sdsc = surface_dice.compute_fn(y_pred, y)\n",
    "\n",
    "sdsc"
   ]
  }
 ],
 "metadata": {
  "interpreter": {
   "hash": "9bcf43fd28070f79a517f81758659f69011f725cffd2c0832fff1c14c055eba3"
  },
  "kernelspec": {
   "display_name": "Python 3.9.12 ('uda')",
   "language": "python",
   "name": "python3"
  },
  "language_info": {
   "codemirror_mode": {
    "name": "ipython",
    "version": 3
   },
   "file_extension": ".py",
   "mimetype": "text/x-python",
   "name": "python",
   "nbconvert_exporter": "python",
   "pygments_lexer": "ipython3",
   "version": "3.9.12"
  },
  "orig_nbformat": 4
 },
 "nbformat": 4,
 "nbformat_minor": 2
}
