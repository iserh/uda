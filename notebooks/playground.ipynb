{
 "cells": [
  {
   "cell_type": "markdown",
   "metadata": {},
   "source": [
    "# Playground"
   ]
  },
  {
   "cell_type": "code",
   "execution_count": 8,
   "metadata": {},
   "outputs": [],
   "source": [
    "import torch\n",
    "from pathlib import Path\n",
    "\n",
    "from uda import UNetConfig, UNet\n",
    "\n",
    "config_dir = Path(\"../config\")"
   ]
  },
  {
   "cell_type": "code",
   "execution_count": 9,
   "metadata": {},
   "outputs": [
    {
     "name": "stdout",
     "output_type": "stream",
     "text": [
      "[128, 64, 64]\n",
      "[64, 32, 32]\n",
      "[32, 16, 16]\n"
     ]
    },
    {
     "data": {
      "text/plain": [
       "482336"
      ]
     },
     "execution_count": 9,
     "metadata": {},
     "output_type": "execute_result"
    }
   ],
   "source": [
    "config = UNetConfig.from_file(config_dir / \"unet.yaml\")\n",
    "model = UNet(config)\n",
    "\n",
    "n_params = sum(p.numel() for p in model.parameters() if p.requires_grad)\n",
    "n_params"
   ]
  },
  {
   "cell_type": "code",
   "execution_count": 10,
   "metadata": {},
   "outputs": [
    {
     "name": "stdout",
     "output_type": "stream",
     "text": [
      "3\n",
      "3\n",
      "torch.Size([4, 128, 8, 8])\n",
      "torch.Size([4, 64, 16, 16])\n",
      "torch.Size([4, 32, 32, 32])\n",
      "torch.Size([4, 16, 64, 64])\n"
     ]
    },
    {
     "data": {
      "text/plain": [
       "tensor([[[[ 2.7318, -0.6117,  1.7253,  ...,  1.2500,  4.4189,  1.6141],\n",
       "          [ 5.5466,  2.6231,  5.3372,  ...,  4.3573,  2.1823,  2.8115],\n",
       "          [-0.3926,  1.5672,  2.6727,  ..., -0.0872,  5.6519,  3.2005],\n",
       "          ...,\n",
       "          [ 1.9482,  6.9440,  1.9795,  ..., -0.9228, -0.0685,  2.4322],\n",
       "          [ 1.9360,  0.4992,  4.1460,  ...,  4.0710,  1.1738, -0.3389],\n",
       "          [ 4.0056,  2.4173,  1.5333,  ...,  3.0330,  1.2237,  1.4150]]],\n",
       "\n",
       "\n",
       "        [[[ 2.4713,  1.3349,  1.5472,  ...,  0.0855,  2.1126,  0.7644],\n",
       "          [ 2.7151,  3.7070,  7.6580,  ..., -3.3017,  2.9902,  3.1128],\n",
       "          [ 8.2186, -4.4179, -1.4436,  ...,  3.9846,  7.3984,  1.4928],\n",
       "          ...,\n",
       "          [ 4.2528,  1.4439,  1.8627,  ..., -1.6131,  1.1575,  5.1853],\n",
       "          [ 0.9547,  1.8905,  1.9436,  ...,  5.0177,  0.7633, -0.0404],\n",
       "          [ 4.9619,  2.8339,  1.4942,  ...,  2.9976,  1.0259,  2.0464]]],\n",
       "\n",
       "\n",
       "        [[[ 1.7771, -0.6669,  2.1898,  ...,  1.4632,  2.5689, -0.1638],\n",
       "          [ 3.8063,  4.3305,  0.4262,  ...,  1.8814,  1.1546,  1.7316],\n",
       "          [ 3.8920,  0.4232,  1.2527,  ...,  7.1287,  1.7920, -0.5709],\n",
       "          ...,\n",
       "          [ 4.3192,  1.5721,  6.7405,  ...,  5.5927,  3.1166, -2.1998],\n",
       "          [ 5.3341,  2.2857,  0.6411,  ...,  2.3605,  4.3158,  3.0961],\n",
       "          [ 4.2226,  0.2819,  4.5409,  ...,  6.6754,  4.5296,  2.2974]]],\n",
       "\n",
       "\n",
       "        [[[ 0.6328,  0.0330,  4.0684,  ...,  2.8214,  0.1558,  1.7566],\n",
       "          [ 5.3316,  1.1885,  3.2137,  ...,  1.8100,  3.7404,  0.9652],\n",
       "          [ 1.1930,  0.1007,  0.4677,  ...,  0.8668,  3.9564,  2.4071],\n",
       "          ...,\n",
       "          [ 9.7218, -1.3193,  5.0314,  ...,  0.6312,  0.9693,  3.0535],\n",
       "          [ 3.7685,  5.5847, -3.4125,  ...,  3.1883,  4.0168, -0.6528],\n",
       "          [ 2.6162,  3.8862,  2.0331,  ...,  0.8586,  1.2640,  6.1931]]]],\n",
       "       grad_fn=<ConvolutionBackward0>)"
      ]
     },
     "execution_count": 10,
     "metadata": {},
     "output_type": "execute_result"
    }
   ],
   "source": [
    "x = torch.empty(4, 1, 64, 64).normal_()\n",
    "model(x)"
   ]
  }
 ],
 "metadata": {
  "interpreter": {
   "hash": "9bcf43fd28070f79a517f81758659f69011f725cffd2c0832fff1c14c055eba3"
  },
  "kernelspec": {
   "display_name": "Python 3.9.12 ('uda')",
   "language": "python",
   "name": "python3"
  },
  "language_info": {
   "codemirror_mode": {
    "name": "ipython",
    "version": 3
   },
   "file_extension": ".py",
   "mimetype": "text/x-python",
   "name": "python",
   "nbconvert_exporter": "python",
   "pygments_lexer": "ipython3",
   "version": "3.9.12"
  },
  "orig_nbformat": 4
 },
 "nbformat": 4,
 "nbformat_minor": 2
}
