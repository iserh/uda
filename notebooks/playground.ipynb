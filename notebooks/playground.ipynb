{
 "cells": [
  {
   "cell_type": "markdown",
   "metadata": {},
   "source": [
    "# Playground"
   ]
  },
  {
   "cell_type": "code",
   "execution_count": 1,
   "metadata": {},
   "outputs": [
    {
     "name": "stdout",
     "output_type": "stream",
     "text": [
      "Using device: cuda:0\n"
     ]
    }
   ],
   "source": [
    "import torch\n",
    "from pathlib import Path\n",
    "\n",
    "from uda import CC359, CC359Config\n",
    "\n",
    "device = \"cuda:0\" if torch.cuda.is_available() else \"cpu\"\n",
    "print(f\"Using device: {device}\")\n",
    "\n",
    "data_dir = Path(\"/tmp/data/CC359\")"
   ]
  },
  {
   "cell_type": "code",
   "execution_count": 2,
   "metadata": {},
   "outputs": [
    {
     "data": {
      "application/vnd.jupyter.widget-view+json": {
       "model_id": "4e156fea3951405a8e77b290ab7cec04",
       "version_major": 2,
       "version_minor": 0
      },
      "text/plain": [
       "Loading files:   0%|          | 0/20 [00:00<?, ?it/s]"
      ]
     },
     "metadata": {},
     "output_type": "display_data"
    }
   ],
   "source": [
    "dataset_config = CC359Config(vendor=\"GE_3\", fold=0, patch_size=(96, 128, 128), random_state=42)\n",
    "\n",
    "dataset = CC359(data_dir, dataset_config)\n",
    "data_loader = torch.utils.data.DataLoader(dataset, batch_size=32, shuffle=False)  # batch_size 32 <=> 4 subjects"
   ]
  },
  {
   "cell_type": "code",
   "execution_count": 3,
   "metadata": {},
   "outputs": [
    {
     "name": "stdout",
     "output_type": "stream",
     "text": [
      "torch.Size([32, 1, 96, 128, 128])\n",
      "torch.Size([32, 1, 96, 128, 128])\n",
      "torch.float32\n",
      "torch.float32\n"
     ]
    }
   ],
   "source": [
    "x, y_true = next(iter(data_loader))\n",
    "print(x.shape)\n",
    "print(y_true.shape)\n",
    "print(x.dtype)\n",
    "print(y_true.dtype)"
   ]
  }
 ],
 "metadata": {
  "interpreter": {
   "hash": "9bcf43fd28070f79a517f81758659f69011f725cffd2c0832fff1c14c055eba3"
  },
  "kernelspec": {
   "display_name": "Python 3.9.12 ('uda')",
   "language": "python",
   "name": "python3"
  },
  "language_info": {
   "codemirror_mode": {
    "name": "ipython",
    "version": 3
   },
   "file_extension": ".py",
   "mimetype": "text/x-python",
   "name": "python",
   "nbconvert_exporter": "python",
   "pygments_lexer": "ipython3",
   "version": "3.9.12"
  },
  "orig_nbformat": 4
 },
 "nbformat": 4,
 "nbformat_minor": 2
}
