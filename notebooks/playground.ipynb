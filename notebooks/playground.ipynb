{
 "cells": [
  {
   "cell_type": "markdown",
   "metadata": {},
   "source": [
    "# Playground"
   ]
  },
  {
   "cell_type": "code",
   "execution_count": 1,
   "metadata": {},
   "outputs": [],
   "source": [
    "import torch\n",
    "from uda import VAE, VAEConfig"
   ]
  },
  {
   "cell_type": "code",
   "execution_count": 2,
   "metadata": {},
   "outputs": [
    {
     "name": "stdout",
     "output_type": "stream",
     "text": [
      "# parameters: 59,480,409\n"
     ]
    }
   ],
   "source": [
    "config = VAEConfig(\n",
    "    encoder_blocks=(\n",
    "        (8, 16, 16, 16),\n",
    "        (16, 32, 32, 32),\n",
    "        (32, 64, 64, 64),\n",
    "        (64, 128, 128, 128),\n",
    "        (128, 256, 256, 256),\n",
    "    ),\n",
    "    decoder_blocks=(\n",
    "        (256, 128, 128, 128),\n",
    "        (128, 64, 64, 64),\n",
    "        (64, 32, 32, 32),\n",
    "        (32, 16, 16, 16),\n",
    "        (16, 8, 8, 8),\n",
    "    ),\n",
    "    latent_dim=1024,\n",
    "    dim=3,\n",
    ")\n",
    "model = VAE(\n",
    "    config=config,\n",
    "    n_channels=1,\n",
    "    input_size=(128, 128, 128),\n",
    ")\n",
    "\n",
    "n_params = sum(p.numel() for p in model.parameters() if p.requires_grad)\n",
    "print(f\"# parameters: {n_params:,}\")"
   ]
  },
  {
   "cell_type": "code",
   "execution_count": 3,
   "metadata": {},
   "outputs": [
    {
     "data": {
      "text/plain": [
       "torch.Size([2, 1, 128, 128, 128])"
      ]
     },
     "execution_count": 3,
     "metadata": {},
     "output_type": "execute_result"
    }
   ],
   "source": [
    "model = model.cuda()\n",
    "\n",
    "x = torch.empty(2, 1, 128, 128, 128).normal_()\n",
    "x_ = model(x.cuda()).detach().cpu()\n",
    "\n",
    "x_.shape"
   ]
  },
  {
   "cell_type": "code",
   "execution_count": 1,
   "metadata": {},
   "outputs": [],
   "source": [
    "import torch\n",
    "from uda import UNet, UNetConfig"
   ]
  },
  {
   "cell_type": "code",
   "execution_count": 3,
   "metadata": {},
   "outputs": [
    {
     "name": "stdout",
     "output_type": "stream",
     "text": [
      "# parameters: 798,009\n"
     ]
    }
   ],
   "source": [
    "config = UNetConfig(\n",
    "    in_channels=1,\n",
    "    out_channels=1,\n",
    "    encoder_blocks=(\n",
    "        (8, 16, 16, 16),\n",
    "        (16, 32, 32, 32),\n",
    "        (32, 64, 64, 64),\n",
    "        (64, 128, 128, 128),\n",
    "    ),\n",
    "    decoder_blocks=(\n",
    "        (128, 64, 64, 64),\n",
    "        (64, 32, 32, 32),\n",
    "        (32, 16, 16, 16),\n",
    "        (16, 8, 8, 8),\n",
    "    ),\n",
    "    dim=2,\n",
    ")\n",
    "model = UNet(config)\n",
    "\n",
    "n_params = sum(p.numel() for p in model.parameters() if p.requires_grad)\n",
    "print(f\"# parameters: {n_params:,}\")"
   ]
  },
  {
   "cell_type": "code",
   "execution_count": 4,
   "metadata": {},
   "outputs": [
    {
     "data": {
      "text/plain": [
       "torch.Size([2, 1, 128, 128])"
      ]
     },
     "execution_count": 4,
     "metadata": {},
     "output_type": "execute_result"
    }
   ],
   "source": [
    "model = model.cuda()\n",
    "\n",
    "x = torch.empty(2, 1, 128, 128).normal_()\n",
    "x_ = model(x.cuda()).detach().cpu()\n",
    "\n",
    "x_.shape"
   ]
  }
 ],
 "metadata": {
  "interpreter": {
   "hash": "9bcf43fd28070f79a517f81758659f69011f725cffd2c0832fff1c14c055eba3"
  },
  "kernelspec": {
   "display_name": "Python 3.9.12 ('uda')",
   "language": "python",
   "name": "python3"
  },
  "language_info": {
   "codemirror_mode": {
    "name": "ipython",
    "version": 3
   },
   "file_extension": ".py",
   "mimetype": "text/x-python",
   "name": "python",
   "nbconvert_exporter": "python",
   "pygments_lexer": "ipython3",
   "version": "3.9.12"
  },
  "orig_nbformat": 4
 },
 "nbformat": 4,
 "nbformat_minor": 2
}
